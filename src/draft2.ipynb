{
 "cells": [
  {
   "cell_type": "markdown",
   "metadata": {},
   "source": [
    "# Setup"
   ]
  },
  {
   "cell_type": "code",
   "execution_count": 1,
   "metadata": {},
   "outputs": [],
   "source": [
    "import os\n",
    "import matplotlib.pyplot as plt\n",
    "from sklearn.model_selection import train_test_split\n",
    "\n",
    "import torch\n",
    "import torch.nn as nn\n",
    "import torch.optim as optim\n",
    "from torchsummary import summary\n",
    "from torch.utils.data import DataLoader, Subset\n",
    "from torchvision import datasets, transforms, models\n",
    "\n",
    "# seed for reproducibility\n",
    "torch.manual_seed(42)\n",
    "\n",
    "device = torch.device(\"mps\" if torch.mps.is_available() else \"cpu\")\n",
    "\n",
    "root = '/Users/carivs/Documents/My space/Projects/sign-language/sign-language-digit-classification-vt'\n",
    "data_dir = os.path.join(root, 'assets/asl_dataset')\n",
    "# verify that the data is available\n",
    "assert os.path.exists(data_dir), f\"Data directory {data_dir} does not exist.\""
   ]
  },
  {
   "cell_type": "markdown",
   "metadata": {},
   "source": [
    "# Helpers"
   ]
  },
  {
   "cell_type": "markdown",
   "metadata": {},
   "source": [
    "## Data preprocessor"
   ]
  },
  {
   "cell_type": "code",
   "execution_count": 2,
   "metadata": {},
   "outputs": [],
   "source": [
    "class DataPreprocessor:\n",
    "    def __init__(self,\n",
    "                 data_dir: str,\n",
    "                 transform: transforms.Compose=None,\n",
    "                 input_shape: tuple[int,int]=(224, 224),\n",
    "                 train_ratio: float=0.7,\n",
    "                 val_ratio: float=0.15,\n",
    "                 test_ratio: float=0.15,\n",
    "                 batch_size: int=32):\n",
    "        \"\"\"\n",
    "        Initialize the DataPreprocessor.\n",
    "\n",
    "        Args:\n",
    "            data_dir (str): Path to the dataset directory.\n",
    "            transform (torchvision.transforms.Compose): Transformations to apply to the images.\n",
    "            input_shape (tuple): Shape to resize the input images to.\n",
    "            train_ratio (float): Proportion of data to use for training.\n",
    "            val_ratio (float): Proportion of data to use for validation.\n",
    "            test_ratio (float): Proportion of data to use for testing.\n",
    "            batch_size (int): Batch size for DataLoader.\n",
    "        \"\"\"\n",
    "        assert train_ratio + val_ratio + test_ratio == 1.0, \"Ratios must sum to 1.\"\n",
    "        self.data_dir = data_dir\n",
    "        self.transform = transform if transform else transforms.Compose([\n",
    "            transforms.Resize(input_shape),\n",
    "            transforms.ToTensor(),\n",
    "            transforms.Normalize((0,),(1,))\n",
    "        ])\n",
    "        self.train_ratio = train_ratio\n",
    "        self.val_ratio = val_ratio\n",
    "        self.test_ratio = test_ratio\n",
    "        self.batch_size = batch_size\n",
    "\n",
    "    def preprocess(self):\n",
    "        \"\"\"\n",
    "        Process the data into train, validation, and test splits.\n",
    "\n",
    "        Returns:\n",
    "            tuple: DataLoader objects for train, validation, and test sets.\n",
    "        \"\"\"\n",
    "        # Load the entire dataset\n",
    "        full_dataset = datasets.ImageFolder(self.data_dir, transform=self.transform)\n",
    "        \n",
    "        # Compute dataset sizes\n",
    "        total_size = len(full_dataset)\n",
    "        train_size = int(self.train_ratio * total_size)\n",
    "        val_size = int(self.val_ratio * total_size)\n",
    "        test_size = total_size - train_size - val_size\n",
    "\n",
    "        # Split the dataset indices\n",
    "        indices = list(range(total_size))\n",
    "        train_indices, temp_indices = train_test_split(indices, test_size=(val_size + test_size), random_state=42)\n",
    "        val_indices, test_indices = train_test_split(temp_indices, test_size=test_size, random_state=42)\n",
    "\n",
    "        # Create subsets\n",
    "        train_dataset = Subset(full_dataset, train_indices)\n",
    "        val_dataset = Subset(full_dataset, val_indices)\n",
    "        test_dataset = Subset(full_dataset, test_indices)\n",
    "\n",
    "        # Create DataLoaders\n",
    "        train = DataLoader(train_dataset, batch_size=self.batch_size, shuffle=True)\n",
    "        val = DataLoader(val_dataset, batch_size=self.batch_size, shuffle=False)\n",
    "        test = DataLoader(test_dataset, batch_size=self.batch_size, shuffle=False)\n",
    "\n",
    "        return train, val, test"
   ]
  },
  {
   "cell_type": "markdown",
   "metadata": {},
   "source": [
    "## CNN Sign language classifier model"
   ]
  },
  {
   "cell_type": "code",
   "execution_count": 3,
   "metadata": {},
   "outputs": [],
   "source": [
    "class SignLanguageCNN(nn.Module):\n",
    "    def __init__(self, num_classes: int):\n",
    "        super().__init__()\n",
    "        self.conv_layers = nn.Sequential(\n",
    "            nn.Conv2d(3, 16, kernel_size=3, stride=1, padding=1),\n",
    "            nn.ReLU(),\n",
    "            nn.MaxPool2d(kernel_size=2, stride=2),\n",
    "            nn.BatchNorm2d(16),\n",
    "            nn.Dropout(0.5),\n",
    "            \n",
    "            nn.Conv2d(16, 32, kernel_size=3, stride=1, padding=1),\n",
    "            nn.ReLU(),\n",
    "            nn.MaxPool2d(kernel_size=2, stride=2),\n",
    "            nn.BatchNorm2d(32),\n",
    "            nn.Dropout(0.5),\n",
    "            \n",
    "            nn.Conv2d(32, 64, kernel_size=3, stride=1, padding=1),\n",
    "            nn.ReLU(),\n",
    "            nn.MaxPool2d(kernel_size=2, stride=2),\n",
    "            nn.BatchNorm2d(64),\n",
    "            nn.Dropout(0.5),\n",
    "            \n",
    "            nn.Conv2d(64, 128, kernel_size=3, stride=1, padding=1),\n",
    "            nn.ReLU(),\n",
    "            nn.MaxPool2d(kernel_size=2, stride=2),\n",
    "            nn.BatchNorm2d(128),\n",
    "            nn.Dropout(0.5)\n",
    "        )\n",
    "        self.fc_layers = nn.Sequential(\n",
    "            nn.Flatten(),\n",
    "            nn.Linear(128 * 14 * 14, 1024),\n",
    "            nn.ReLU(),\n",
    "            nn.Dropout(0.5),\n",
    "            nn.Linear(1024, 128),\n",
    "            nn.ReLU(),\n",
    "            nn.Dropout(0.5),\n",
    "            nn.Linear(128, num_classes)\n",
    "        )\n",
    "    \n",
    "    def forward(self, x):\n",
    "        x = self.conv_layers(x)\n",
    "        x = self.fc_layers(x)\n",
    "        return x\n"
   ]
  },
  {
   "cell_type": "code",
   "execution_count": 4,
   "metadata": {},
   "outputs": [],
   "source": [
    "class SignLanguageTL:\n",
    "    def __init__(self, model: nn.Module, weights, num_classes: int):\n",
    "        \"\"\"\n",
    "        Initialize the ResNet model for fine-tuning.\n",
    "\n",
    "        Args:\n",
    "            num_classes (int): Number of output classes.\n",
    "        \"\"\"\n",
    "        self.model = model(weights=weights)\n",
    "\n",
    "        # Freeze all layers\n",
    "        for param in self.model.parameters():\n",
    "            param.requires_grad = False\n",
    "        \n",
    "        # Unfreeze the parameters of the last few layers for fine-tuning\n",
    "        for param in self.model.layer4.parameters():\n",
    "            param.requires_grad = True\n",
    "\n",
    "        # Replace the fully connected layer\n",
    "        in_features = self.model.fc.in_features\n",
    "        # self.model.fc = nn.Linear(in_features, num_classes)\n",
    "        self.model.fc = nn.Sequential(\n",
    "            nn.Linear(in_features, 196),\n",
    "            nn.ReLU(),\n",
    "            nn.Dropout(0.5),\n",
    "            nn.Linear(196, num_classes)\n",
    "        )"
   ]
  },
  {
   "cell_type": "markdown",
   "metadata": {},
   "source": [
    "## Transfer learning Sign language classifeer model"
   ]
  },
  {
   "cell_type": "code",
   "execution_count": 5,
   "metadata": {},
   "outputs": [],
   "source": [
    "class SignLanguageModel:\n",
    "    def __init__(self, model, save_path, device:torch.device=None):\n",
    "        \"\"\"\n",
    "        Initialize the ResNet model for fine-tuning.\n",
    "\n",
    "        Args:\n",
    "            num_classes (int): Number of output classes.\n",
    "        \"\"\"\n",
    "        self.device = device or torch.device(\"cpu\")\n",
    "        self.model = model.to(self.device)\n",
    "        self.save_path = save_path\n",
    "\n",
    "    def train(self, train, val, criterion, optimizer, epochs=10, save_best=False):\n",
    "        \"\"\"\n",
    "        Train the model.\n",
    "\n",
    "        Args:\n",
    "            train (DataLoader): Training data loader.\n",
    "            val (DataLoader): Validation data loader.\n",
    "            epochs (int): Number of training epochs.\n",
    "            lr (float): Learning rate.\n",
    "        \"\"\"\n",
    "        # criterion = nn.CrossEntropyLoss()\n",
    "        # optimizer = optim.Adam(self.model.parameters(), lr=lr)\n",
    "\n",
    "        train_losses, val_losses = [], []\n",
    "        best_val_loss = float('inf')  # Track the best validation accuracy\n",
    "        \n",
    "        for epoch in range(epochs):\n",
    "            self.model.train()\n",
    "            train_loss = 0.0\n",
    "            for inputs, labels in train:\n",
    "                inputs, labels = inputs.to(self.device), labels.to(self.device)\n",
    "\n",
    "                optimizer.zero_grad()\n",
    "                outputs = self.model(inputs)\n",
    "                loss = criterion(outputs, labels)\n",
    "                loss.backward()\n",
    "                optimizer.step()\n",
    "\n",
    "                train_loss += loss.item()\n",
    "                \n",
    "            train_loss /= len(train)\n",
    "            val_loss = self.evaluate(val, criterion, is_test=False)\n",
    "            \n",
    "            # Save losses\n",
    "            train_losses.append(train_loss)\n",
    "            val_losses.append(val_loss)\n",
    "            \n",
    "            print(f\"Epoch {epoch+1}/{epochs}, Train Loss: {train_losses[-1]:.4f}, Val Loss: {val_losses[-1]:.4f}\")\n",
    "            \n",
    "            if save_best and val_loss < best_val_loss:\n",
    "                best_val_loss = val_loss\n",
    "                torch.save(self.model.state_dict(), self.save_path)\n",
    "                print(f\"New best model saved with loss: {best_val_loss:.4f}\")\n",
    "\n",
    "        if save_best:\n",
    "            self.load_model()\n",
    "        \n",
    "        return train_losses, val_losses\n",
    "\n",
    "    def evaluate(self, val, criterion=None, is_test=False):\n",
    "        \"\"\"\n",
    "        Evaluate the model on validation data.\n",
    "\n",
    "        Args:\n",
    "            val (DataLoader): Validation data loader.\n",
    "        \"\"\"\n",
    "        assert not is_test and criterion or is_test, \"Criterion must be provided for evaluation.\"\n",
    "        \n",
    "        self.model.eval()\n",
    "        correct = 0\n",
    "        total = 0\n",
    "        val_loss = 0\n",
    "        with torch.no_grad():\n",
    "            for inputs, labels in val:\n",
    "                inputs, labels = inputs.to(self.device), labels.to(self.device)\n",
    "                outputs = self.model(inputs)\n",
    "                if is_test:\n",
    "                    _, predicted = torch.max(outputs, 1)\n",
    "                    total += labels.size(0)\n",
    "                    correct += (predicted == labels).sum().item()\n",
    "                else:\n",
    "                    # loss = criterion(outputs, labels)\n",
    "                    val_loss += criterion(outputs, labels).item()\n",
    "\n",
    "        # print(f\"Validation Accuracy: {100 * correct / total}%\")\n",
    "        return 100 * correct / total if is_test else val_loss / len(val)\n",
    "    \n",
    "    def load_model(self, path=None):\n",
    "        \"\"\"\n",
    "        Load the model from a file. If no path is provided, the model is loaded from the save path.\n",
    "        \"\"\"\n",
    "        path = path or self.save_path\n",
    "        self.model.load_state_dict(torch.load(path))"
   ]
  },
  {
   "cell_type": "markdown",
   "metadata": {},
   "source": [
    "# Execution"
   ]
  },
  {
   "cell_type": "markdown",
   "metadata": {},
   "source": [
    "## Initialization"
   ]
  },
  {
   "cell_type": "code",
   "execution_count": 6,
   "metadata": {},
   "outputs": [],
   "source": [
    "INPUT_SHAPE = (224, 224)\n",
    "NB_CHANNELS = 3\n",
    "TRAIN_RATIO, VAL_RATIO, TEST_RATIO = 0.7, 0.15, 0.15\n",
    "LR = 0.001\n",
    "save_path = {\n",
    "    'cnn': os.path.join(root, 'models/sign_language_cnn.pth'),\n",
    "    'tl': os.path.join(root, 'models/sign_language_tl.pth'),\n",
    "    'vt': os.path.join(root, 'models/sign_language_vf.pth'),\n",
    "}\n",
    "\n",
    "weights = models.ResNet50_Weights.DEFAULT\n",
    "preprocess = weights.transforms()"
   ]
  },
  {
   "cell_type": "markdown",
   "metadata": {},
   "source": [
    "## Data preprocessing"
   ]
  },
  {
   "cell_type": "code",
   "execution_count": 7,
   "metadata": {},
   "outputs": [
    {
     "name": "stdout",
     "output_type": "stream",
     "text": [
      "Classes: ['0', '1', '2', '3', '4', '5', '6', '7', '8', '9', 'a', 'b', 'c', 'd', 'e', 'f', 'g', 'h', 'i', 'j', 'k', 'l', 'm', 'n', 'o', 'p', 'q', 'r', 's', 't', 'u', 'v', 'w', 'x', 'y', 'z']\n",
      "Train size: 1760\n",
      "Validation size: 377\n",
      "Test size: 378\n"
     ]
    }
   ],
   "source": [
    "data_preprocessor = DataPreprocessor(data_dir,\n",
    "                                     transform=preprocess,\n",
    "                                     input_shape=INPUT_SHAPE,\n",
    "                                     train_ratio=TRAIN_RATIO,\n",
    "                                     val_ratio=VAL_RATIO,\n",
    "                                     test_ratio=TEST_RATIO)\n",
    "train, val, test = data_preprocessor.preprocess()\n",
    "\n",
    "# Print class names and sizes\n",
    "classes = datasets.ImageFolder(data_dir).classes\n",
    "num_classes = len(classes)\n",
    "print(f\"Classes: {classes}\")\n",
    "print(f\"Train size: {len(train.dataset)}\")\n",
    "print(f\"Validation size: {len(val.dataset)}\")\n",
    "print(f\"Test size: {len(test.dataset)}\")\n"
   ]
  },
  {
   "cell_type": "markdown",
   "metadata": {},
   "source": [
    "## Training"
   ]
  },
  {
   "cell_type": "code",
   "execution_count": 8,
   "metadata": {},
   "outputs": [],
   "source": [
    "# Initialize the model\n",
    "model_type = 'tl'\n",
    "model = SignLanguageCNN(num_classes=num_classes) if model_type == 'cnn' \\\n",
    "    else SignLanguageTL(models.resnet50, weights, num_classes=num_classes).model\n",
    "trainer = SignLanguageModel(model, save_path=save_path[model_type], device=device)\n",
    "criterion = nn.CrossEntropyLoss()  # Suitable for classification\n",
    "optimizer = optim.Adam(model.parameters(), lr=LR)\n",
    "# optimizer = optim.SGD(model.parameters(), lr=LR*5, momentum=0.9)\n",
    "# summary(model, (NB_CHANNELS, *INPUT_SHAPE))#, device=device.type)"
   ]
  },
  {
   "cell_type": "code",
   "execution_count": 9,
   "metadata": {},
   "outputs": [
    {
     "name": "stdout",
     "output_type": "stream",
     "text": [
      "Epoch 1/20, Train Loss: 1.9904, Val Loss: 0.5223\n",
      "New best model saved with loss: 0.5223\n",
      "Epoch 2/20, Train Loss: 0.4401, Val Loss: 0.3436\n",
      "New best model saved with loss: 0.3436\n",
      "Epoch 3/20, Train Loss: 0.2615, Val Loss: 0.5556\n",
      "Epoch 4/20, Train Loss: 0.1798, Val Loss: 0.3272\n",
      "New best model saved with loss: 0.3272\n",
      "Epoch 5/20, Train Loss: 0.1202, Val Loss: 0.1753\n",
      "New best model saved with loss: 0.1753\n",
      "Epoch 6/20, Train Loss: 0.1068, Val Loss: 0.1504\n",
      "New best model saved with loss: 0.1504\n",
      "Epoch 7/20, Train Loss: 0.0489, Val Loss: 0.1728\n",
      "Epoch 8/20, Train Loss: 0.0154, Val Loss: 0.0997\n",
      "New best model saved with loss: 0.0997\n",
      "Epoch 9/20, Train Loss: 0.0111, Val Loss: 0.1713\n",
      "Epoch 10/20, Train Loss: 0.0278, Val Loss: 0.1266\n",
      "Epoch 11/20, Train Loss: 0.0095, Val Loss: 0.0979\n",
      "New best model saved with loss: 0.0979\n",
      "Epoch 12/20, Train Loss: 0.0250, Val Loss: 0.2151\n",
      "Epoch 13/20, Train Loss: 0.0426, Val Loss: 0.2228\n",
      "Epoch 14/20, Train Loss: 0.0515, Val Loss: 0.1941\n",
      "Epoch 15/20, Train Loss: 0.0493, Val Loss: 0.1348\n",
      "Epoch 16/20, Train Loss: 0.0527, Val Loss: 0.1130\n",
      "Epoch 17/20, Train Loss: 0.0447, Val Loss: 0.0873\n",
      "New best model saved with loss: 0.0873\n",
      "Epoch 18/20, Train Loss: 0.0154, Val Loss: 0.0886\n",
      "Epoch 19/20, Train Loss: 0.0240, Val Loss: 0.1064\n",
      "Epoch 20/20, Train Loss: 0.0077, Val Loss: 0.0952\n"
     ]
    },
    {
     "name": "stderr",
     "output_type": "stream",
     "text": [
      "/var/folders/lh/z_xf3dnx7dggbs5y0wcp9zpc0000gn/T/ipykernel_35846/2328573041.py:95: FutureWarning: You are using `torch.load` with `weights_only=False` (the current default value), which uses the default pickle module implicitly. It is possible to construct malicious pickle data which will execute arbitrary code during unpickling (See https://github.com/pytorch/pytorch/blob/main/SECURITY.md#untrusted-models for more details). In a future release, the default value for `weights_only` will be flipped to `True`. This limits the functions that could be executed during unpickling. Arbitrary objects will no longer be allowed to be loaded via this mode unless they are explicitly allowlisted by the user via `torch.serialization.add_safe_globals`. We recommend you start setting `weights_only=True` for any use case where you don't have full control of the loaded file. Please open an issue on GitHub for any issues related to this experimental feature.\n",
      "  self.model.load_state_dict(torch.load(path))\n"
     ]
    }
   ],
   "source": [
    "# Train the model\n",
    "train_losses, val_losses = trainer.train(train, val, criterion, optimizer, epochs=20, save_best=True)"
   ]
  },
  {
   "cell_type": "code",
   "execution_count": 10,
   "metadata": {},
   "outputs": [
    {
     "data": {
      "image/png": "[encoded data removed]",
      "text/plain": [
       "<Figure size 640x480 with 1 Axes>"
      ]
     },
     "metadata": {},
     "output_type": "display_data"
    }
   ],
   "source": [
    "# Plot the training and validation losses\n",
    "plt.plot(train_losses, label='Train Loss')\n",
    "plt.plot(val_losses, label='Validation Loss')\n",
    "plt.xlabel('Epoch')\n",
    "plt.ylabel('Loss')\n",
    "plt.legend()\n",
    "plt.show()"
   ]
  },
  {
   "cell_type": "markdown",
   "metadata": {},
   "source": [
    "## Testing"
   ]
  },
  {
   "cell_type": "code",
   "execution_count": 11,
   "metadata": {},
   "outputs": [
    {
     "data": {
      "text/plain": [
       "97.35449735449735"
      ]
     },
     "execution_count": 11,
     "metadata": {},
     "output_type": "execute_result"
    }
   ],
   "source": [
    "# Evaluate\n",
    "trainer.evaluate(test, is_test=True)"
   ]
  }
 ],
 "metadata": {
  "kernelspec": {
   "display_name": ".venv",
   "language": "python",
   "name": "python3"
  },
  "language_info": {
   "codemirror_mode": {
    "name": "ipython",
    "version": 3
   },
   "file_extension": ".py",
   "mimetype": "text/x-python",
   "name": "python",
   "nbconvert_exporter": "python",
   "pygments_lexer": "ipython3",
   "version": "3.12.7"
  }
 },
 "nbformat": 4,
 "nbformat_minor": 2
}
